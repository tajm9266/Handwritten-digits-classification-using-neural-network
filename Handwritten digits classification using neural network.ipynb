{
 "cells": [
  {
   "cell_type": "code",
   "execution_count": 53,
   "id": "daee4bdc",
   "metadata": {},
   "outputs": [],
   "source": [
    "import tensorflow as tf\n",
    "from tensorflow import keras\n",
    "import matplotlib.pyplot as plt\n",
    "%matplotlib inline\n",
    "import numpy as np"
   ]
  },
  {
   "cell_type": "code",
   "execution_count": 54,
   "id": "9543f37a",
   "metadata": {},
   "outputs": [],
   "source": [
    "(X_train, y_train) , (X_test, y_test) = keras.datasets.mnist.load_data()"
   ]
  },
  {
   "cell_type": "code",
   "execution_count": 55,
   "id": "021ecbe2",
   "metadata": {},
   "outputs": [
    {
     "name": "stdout",
     "output_type": "stream",
     "text": [
      "(60000, 28, 28)\n"
     ]
    }
   ],
   "source": [
    "print(X_train.shape)"
   ]
  },
  {
   "cell_type": "code",
   "execution_count": 56,
   "id": "36018528",
   "metadata": {},
   "outputs": [
    {
     "data": {
      "text/plain": [
       "<matplotlib.image.AxesImage at 0x208c3c77ac8>"
      ]
     },
     "execution_count": 56,
     "metadata": {},
     "output_type": "execute_result"
    },
    {
     "data": {
      "image/png": "[encoded data removed]",
      "text/plain": [
       "<Figure size 432x288 with 1 Axes>"
      ]
     },
     "metadata": {
      "needs_background": "light"
     },
     "output_type": "display_data"
    }
   ],
   "source": [
    "plt.imshow(X_train[3])"
   ]
  },
  {
   "cell_type": "code",
   "execution_count": 57,
   "id": "6f6cde53",
   "metadata": {},
   "outputs": [],
   "source": [
    "X_train=X_train/255\n",
    "X_test=X_test/255"
   ]
  },
  {
   "cell_type": "code",
   "execution_count": 58,
   "id": "54c3f4c3",
   "metadata": {},
   "outputs": [],
   "source": [
    "X_train_reshape = np.reshape(X_train, (X_train.shape[0], -1))\n",
    "X_test_reshape = np.reshape(X_test, (X_test.shape[0], -1))"
   ]
  },
  {
   "cell_type": "code",
   "execution_count": 59,
   "id": "fd43a3db",
   "metadata": {},
   "outputs": [
    {
     "name": "stdout",
     "output_type": "stream",
     "text": [
      "(60000, 784) (10000, 784)\n"
     ]
    }
   ],
   "source": [
    "print(X_train_reshape.shape,X_test_reshape.shape)"
   ]
  },
  {
   "cell_type": "code",
   "execution_count": 60,
   "id": "9d56ec34",
   "metadata": {},
   "outputs": [],
   "source": [
    "model=keras.Sequential([\n",
    "    keras.layers.Dense(10,input_shape=(784,),activation='sigmoid')\n",
    "])"
   ]
  },
  {
   "cell_type": "code",
   "execution_count": 61,
   "id": "ef8f1a0a",
   "metadata": {},
   "outputs": [],
   "source": [
    "model.compile(optimizer='adam',\n",
    "              loss='sparse_categorical_crossentropy',\n",
    "              metrics=['accuracy'])"
   ]
  },
  {
   "cell_type": "code",
   "execution_count": 62,
   "id": "824aeae9",
   "metadata": {},
   "outputs": [
    {
     "name": "stdout",
     "output_type": "stream",
     "text": [
      "Train on 60000 samples\n",
      "Epoch 1/5\n",
      "60000/60000 [==============================] - 5s 83us/sample - loss: 0.4880 - accuracy: 0.8772 - ETA: 1s - loss: 0 - ETA: 0s - loss: 0.4984 - accu\n",
      "Epoch 2/5\n",
      "60000/60000 [==============================] - 4s 74us/sample - loss: 0.3064 - accuracy: 0.9154\n",
      "Epoch 3/5\n",
      "60000/60000 [==============================] - 5s 76us/sample - loss: 0.2855 - accuracy: 0.9208s - loss: 0.2831 -  - ETA: 1s - loss: 0.2844 - accuracy: 0. - ETA:  - ETA - ETA: 0s - loss: 0.2852 - accuracy: 0.\n",
      "Epoch 4/5\n",
      "60000/60000 [==============================] - 5s 76us/sample - loss: 0.2749 - accuracy: 0.9243s - loss: 0\n",
      "Epoch 5/5\n",
      "60000/60000 [==============================] - 4s 74us/sample - loss: 0.2678 - accuracy: 0.9258\n"
     ]
    },
    {
     "data": {
      "text/plain": [
       "<tensorflow.python.keras.callbacks.History at 0x208c4fc68c8>"
      ]
     },
     "execution_count": 62,
     "metadata": {},
     "output_type": "execute_result"
    }
   ],
   "source": [
    "model.fit(X_train_reshape,y_train,epochs=5)"
   ]
  },
  {
   "cell_type": "code",
   "execution_count": 63,
   "id": "249eb9b5",
   "metadata": {},
   "outputs": [
    {
     "name": "stdout",
     "output_type": "stream",
     "text": [
      "10000/10000 [==============================] - 1s 59us/sample - loss: 0.2669 - accuracy: 0.9262\n"
     ]
    },
    {
     "data": {
      "text/plain": [
       "[0.26687883415818214, 0.9262]"
      ]
     },
     "execution_count": 63,
     "metadata": {},
     "output_type": "execute_result"
    }
   ],
   "source": [
    "model.evaluate(X_test_reshape,y_test)"
   ]
  },
  {
   "cell_type": "code",
   "execution_count": 64,
   "id": "ce99a786",
   "metadata": {},
   "outputs": [],
   "source": [
    "y_predicted=model.predict(X_test_reshape)"
   ]
  },
  {
   "cell_type": "code",
   "execution_count": 65,
   "id": "f66a2e06",
   "metadata": {},
   "outputs": [],
   "source": [
    "y_predict_labels=[np.argmax(i) for i in y_predicted]"
   ]
  },
  {
   "cell_type": "code",
   "execution_count": 66,
   "id": "24b56534",
   "metadata": {},
   "outputs": [
    {
     "data": {
      "text/plain": [
       "2"
      ]
     },
     "execution_count": 66,
     "metadata": {},
     "output_type": "execute_result"
    }
   ],
   "source": [
    "y_test[1]"
   ]
  },
  {
   "cell_type": "code",
   "execution_count": 67,
   "id": "179c217e",
   "metadata": {},
   "outputs": [
    {
     "data": {
      "text/plain": [
       "2"
      ]
     },
     "execution_count": 67,
     "metadata": {},
     "output_type": "execute_result"
    }
   ],
   "source": [
    "y_predict_labels[1]"
   ]
  },
  {
   "cell_type": "code",
   "execution_count": 94,
   "id": "cc33c8d7",
   "metadata": {},
   "outputs": [],
   "source": [
    "def Accuracy(actual,predict):\n",
    "    acc=np.sum((actual==predict))/actual.shape[0]\n",
    "    return acc*100"
   ]
  },
  {
   "cell_type": "code",
   "execution_count": 95,
   "id": "f93aec2b",
   "metadata": {},
   "outputs": [
    {
     "name": "stdout",
     "output_type": "stream",
     "text": [
      "Accuracy with ANN= 92.62\n"
     ]
    }
   ],
   "source": [
    "print(\"Accuracy with ANN=\",Accuracy(y_test,y_predict_labels))"
   ]
  },
  {
   "cell_type": "code",
   "execution_count": 96,
   "id": "a2c9de67",
   "metadata": {},
   "outputs": [],
   "source": [
    "from sklearn.metrics import confusion_matrix\n",
    "cm=confusion_matrix(y_test,y_predict_labels)"
   ]
  },
  {
   "cell_type": "code",
   "execution_count": 97,
   "id": "75097bd8",
   "metadata": {},
   "outputs": [
    {
     "data": {
      "text/plain": [
       "array([[ 963,    0,    1,    2,    0,    5,    6,    2,    1,    0],\n",
       "       [   0, 1110,    3,    2,    0,    1,    4,    2,   13,    0],\n",
       "       [   8,    7,  919,   16,    9,    4,   13,   13,   41,    2],\n",
       "       [   5,    0,   16,  916,    1,   24,    2,   12,   28,    6],\n",
       "       [   1,    1,    2,    1,  927,    0,   12,    4,   10,   24],\n",
       "       [   9,    1,    4,   30,   11,  769,   16,    7,   37,    8],\n",
       "       [  11,    3,    7,    1,    8,   11,  912,    2,    3,    0],\n",
       "       [   1,    6,   23,    4,    8,    0,    0,  962,    1,   23],\n",
       "       [   7,    6,    6,   15,    9,   20,    9,   13,  884,    5],\n",
       "       [  11,    7,    1,   10,   37,    5,    0,   30,    8,  900]],\n",
       "      dtype=int64)"
      ]
     },
     "execution_count": 97,
     "metadata": {},
     "output_type": "execute_result"
    }
   ],
   "source": [
    "cm"
   ]
  },
  {
   "cell_type": "code",
   "execution_count": 98,
   "id": "09c1b6db",
   "metadata": {},
   "outputs": [],
   "source": [
    "#using with hidden layer"
   ]
  },
  {
   "cell_type": "code",
   "execution_count": 99,
   "id": "8400f454",
   "metadata": {},
   "outputs": [],
   "source": [
    "model = keras.Sequential([\n",
    "    keras.layers.Dense(100, input_shape=(784,), activation='relu'),\n",
    "    keras.layers.Dense(50, activation='relu'),\n",
    "    keras.layers.Dense(10, activation='sigmoid')\n",
    "])\n",
    "\n",
    "model.compile(optimizer='adam',\n",
    "              loss='sparse_categorical_crossentropy',\n",
    "              metrics=['accuracy'])\n"
   ]
  },
  {
   "cell_type": "code",
   "execution_count": 100,
   "id": "0b583268",
   "metadata": {},
   "outputs": [
    {
     "name": "stdout",
     "output_type": "stream",
     "text": [
      "Train on 60000 samples\n",
      "Epoch 1/5\n",
      "60000/60000 [==============================] - 6s 105us/sample - loss: 0.2797 - accuracy: 0.9194 - loss: 0.3471 -  - ETA: 2s - loss: - ETA: 1s - loss: 0.3093 - accuracy: 0. - ETA: 1s - loss: 0.3064 -  - ETA: 0s - loss: 0.2 - ETA: 0s - loss: 0.2814 - accuracy: 0.\n",
      "Epoch 2/5\n",
      "60000/60000 [==============================] - 6s 94us/sample - loss: 0.1244 - accuracy: 0.9623s - l\n",
      "Epoch 3/5\n",
      "60000/60000 [==============================] - 6s 96us/sample - loss: 0.0873 - accuracy: 0.9730\n",
      "Epoch 4/5\n",
      "60000/60000 [==============================] - 6s 100us/sample - loss: 0.0706 - accuracy: 0.9778\n",
      "Epoch 5/5\n",
      "60000/60000 [==============================] - ETA: 0s - loss: 0.0563 - accuracy: 0.98 - 6s 95us/sample - loss: 0.0562 - accuracy: 0.9822\n"
     ]
    },
    {
     "data": {
      "text/plain": [
       "<tensorflow.python.keras.callbacks.History at 0x208c7f089c8>"
      ]
     },
     "execution_count": 100,
     "metadata": {},
     "output_type": "execute_result"
    }
   ],
   "source": [
    "model.fit(X_train_reshape, y_train, epochs=5)"
   ]
  },
  {
   "cell_type": "code",
   "execution_count": 101,
   "id": "03ac85e8",
   "metadata": {},
   "outputs": [],
   "source": [
    "y_predicted2=model.predict(X_test_reshape)"
   ]
  },
  {
   "cell_type": "code",
   "execution_count": 102,
   "id": "397ef39a",
   "metadata": {},
   "outputs": [],
   "source": [
    "y_predict_labels2=[np.argmax(i) for i in y_predicted2]"
   ]
  },
  {
   "cell_type": "code",
   "execution_count": 103,
   "id": "b7e1eda2",
   "metadata": {},
   "outputs": [],
   "source": [
    "def Accuracy(actual,predict):\n",
    "    acc=np.sum((actual==predict))/actual.shape[0]\n",
    "    return acc*100"
   ]
  },
  {
   "cell_type": "code",
   "execution_count": 104,
   "id": "0b9cfa4d",
   "metadata": {},
   "outputs": [
    {
     "name": "stdout",
     "output_type": "stream",
     "text": [
      "Accuracy of ANN with 2 hidden layers= 97.36\n"
     ]
    }
   ],
   "source": [
    "print(\"Accuracy of ANN with 2 hidden layers=\",Accuracy(y_test,y_predict_labels2))"
   ]
  },
  {
   "cell_type": "code",
   "execution_count": null,
   "id": "55868cf1",
   "metadata": {},
   "outputs": [],
   "source": []
  },
  {
   "cell_type": "code",
   "execution_count": null,
   "id": "24ef0bf4",
   "metadata": {},
   "outputs": [],
   "source": []
  }
 ],
 "metadata": {
  "kernelspec": {
   "display_name": "Python 3",
   "language": "python",
   "name": "python3"
  },
  "language_info": {
   "codemirror_mode": {
    "name": "ipython",
    "version": 3
   },
   "file_extension": ".py",
   "mimetype": "text/x-python",
   "name": "python",
   "nbconvert_exporter": "python",
   "pygments_lexer": "ipython3",
   "version": "3.7.10"
  }
 },
 "nbformat": 4,
 "nbformat_minor": 5
}
